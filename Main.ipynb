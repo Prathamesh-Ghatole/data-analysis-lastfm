{
 "cells": [
  {
   "cell_type": "markdown",
   "id": "dec6ef8b",
   "metadata": {},
   "source": [
    "# Set Up\n",
    "If you haven't setup your credentials in the config.json file, please do so in the given prompt."
   ]
  },
  {
   "cell_type": "code",
   "execution_count": 1,
   "id": "6a0f90b9",
   "metadata": {},
   "outputs": [],
   "source": [
    "import pandas as pd\n",
    "import requests\n",
    "import json"
   ]
  },
  {
   "cell_type": "code",
   "execution_count": 2,
   "id": "736a5c61",
   "metadata": {},
   "outputs": [
    {
     "name": "stdout",
     "output_type": "stream",
     "text": [
      "Config Loaded Successfully.\n"
     ]
    }
   ],
   "source": [
    "# Setting up the config for usage.\n",
    "try:\n",
    "    with open('config.json', 'r') as f:\n",
    "        config = json.load(f)\n",
    "    user_agent = config['user_agent']\n",
    "    key1 = config['key1']\n",
    "    key2 = config['key2']\n",
    "    key3 = config['key3']\n",
    "    print(\"Config Loaded Successfully.\")\n",
    "    key_list = [key1, key2, key3]\n",
    "    \n",
    "except:\n",
    "    print('config.json wasn\\'t found.\\nCreating new config file. Please enter your credentials.')\n",
    "    user_agent = input('Enter User Agent: ')\n",
    "    key1 = input('Enter Secret Key: ')\n",
    "    key2 = input('Enter Secret Key 2:\\nLeave blank if you don\\'t have mirror keys. ')\n",
    "    if key2 == '':\n",
    "        key2 = key1\n",
    "    key3 = input('Enter Secret Key 3:\\nLeave blank if you don\\'t have mirror keys. ')\n",
    "    if key3 == '':\n",
    "        key3 = key1\n",
    "    \n",
    "    with open('config.json.sample','r') as f:\n",
    "        config = json.load(f)\n",
    "    \n",
    "    config['user_agent'] = user_agent\n",
    "    config['key1'] = key1\n",
    "    config['key2'] = key2\n",
    "    config['key3'] = key3\n",
    "    \n",
    "    with open('config.json','w+') as f:\n",
    "        json.dump(config, f)\n",
    "    \n",
    "    key_list = [key1, key2, key3]\n",
    "    \n",
    "# Fetches variables: user_agent, key1, key2, key3, key_list"
   ]
  },
  {
   "cell_type": "markdown",
   "id": "8c2c4f50",
   "metadata": {},
   "source": [
    "# Fetching Data from Last.fm"
   ]
  },
  {
   "cell_type": "code",
   "execution_count": 3,
   "id": "7245506e",
   "metadata": {},
   "outputs": [],
   "source": [
    "# This function gets the \"Pages\" where each page records 200 songs.\n",
    "def send_request(username='snaekboi', page=1, limit=200, key=key1):\n",
    "    \n",
    "    headers = {'user-agent': user_agent}\n",
    "    \n",
    "    payload ={\n",
    "    'limit':limit,\n",
    "    'user':username,\n",
    "    'page': page,\n",
    "    'api_key': key,\n",
    "    'method': 'user.getrecenttracks',\n",
    "    'format': 'json'\n",
    "    }\n",
    "    \n",
    "    api_reply = requests.get('https://ws.audioscrobbler.com/2.0/', headers=headers, params=payload)\n",
    "    \n",
    "    return api_reply"
   ]
  },
  {
   "cell_type": "code",
   "execution_count": 4,
   "id": "f09cb7a4",
   "metadata": {},
   "outputs": [],
   "source": [
    "# This function takes the page number as the input and fetches the scrobbles on that page.\n",
    "def getPage(num=1, username='snaekboi', key=key1):\n",
    "    response=send_request(username, num, key)\n",
    "    if response.status_code == \n",
    "    df = pd.DataFrame.from_dict(response.json(), orient='index')\n",
    "    \n",
    "    if type(df.track[0])==dict:\n",
    "        ls = [df.track[0]]\n",
    "    else:\n",
    "        ls = df.track[0]\n",
    "    page = pd.DataFrame.from_dict(ls)\n",
    "    if (num!=1) & (page['@attr'][0]=={'nowplaying': 'true'}):\n",
    "        page = page.drop([0])\n",
    "    return page"
   ]
  },
  {
   "cell_type": "code",
   "execution_count": 5,
   "id": "7de1f40f",
   "metadata": {},
   "outputs": [
    {
     "data": {
      "text/plain": [
       "62"
      ]
     },
     "execution_count": 5,
     "metadata": {},
     "output_type": "execute_result"
    }
   ],
   "source": [
    "# Calculate the number of pages\n",
    "num_pages = int(send_request().json()['recenttracks']['@attr']['totalPages'])\n",
    "num_pages"
   ]
  },
  {
   "cell_type": "code",
   "execution_count": 6,
   "id": "5861a0f4",
   "metadata": {},
   "outputs": [],
   "source": [
    "# # Loop and fetch all pages.\n",
    "# ls = []\n",
    "\n",
    "# for x in range(1,num_pages+1):\n",
    "#     ls.append(getPage(num=x))\n",
    "# ls"
   ]
  },
  {
   "cell_type": "code",
   "execution_count": 20,
   "id": "114c8a74",
   "metadata": {
    "scrolled": true
   },
   "outputs": [],
   "source": [
    "# Initialize Empty list of fetched pages\n",
    "ls = []\n",
    "\n",
    "# key queue\n",
    "def keyPicker(page_num, list_of_keys):\n",
    "    index_num = page_num %  len(list_of_keys)\n",
    "    return list_of_keys[index_num]"
   ]
  },
  {
   "cell_type": "code",
   "execution_count": 19,
   "id": "4a774975",
   "metadata": {},
   "outputs": [],
   "source": []
  }
 ],
 "metadata": {
  "kernelspec": {
   "display_name": "Python 3 (ipykernel)",
   "language": "python",
   "name": "python3"
  },
  "language_info": {
   "codemirror_mode": {
    "name": "ipython",
    "version": 3
   },
   "file_extension": ".py",
   "mimetype": "text/x-python",
   "name": "python",
   "nbconvert_exporter": "python",
   "pygments_lexer": "ipython3",
   "version": "3.9.7"
  }
 },
 "nbformat": 4,
 "nbformat_minor": 5
}
