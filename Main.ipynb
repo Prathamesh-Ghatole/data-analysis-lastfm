{
 "cells": [
  {
   "cell_type": "markdown",
   "id": "dec6ef8b",
   "metadata": {},
   "source": [
    "# Set Up\n",
    "If you haven't setup your credentials in the config.json file, please do so in the given prompt."
   ]
  },
  {
   "cell_type": "code",
   "execution_count": 9,
   "id": "6a0f90b9",
   "metadata": {},
   "outputs": [],
   "source": [
    "import pandas as pd\n",
    "import requests\n",
    "import json"
   ]
  },
  {
   "cell_type": "code",
   "execution_count": 10,
   "id": "736a5c61",
   "metadata": {},
   "outputs": [
    {
     "name": "stdout",
     "output_type": "stream",
     "text": [
      "Config Loaded Successfully.\n"
     ]
    }
   ],
   "source": [
    "# Setting up the config for usage.\n",
    "try:\n",
    "    with open('config.json', 'r') as f:\n",
    "        config = json.load(f)\n",
    "    user_agent = config['user_agent']\n",
    "    key1 = config['key1']\n",
    "    key2 = config['key2']\n",
    "    key3 = config['key3']\n",
    "    username = config['username']\n",
    "    print(\"Config Loaded Successfully.\")\n",
    "    key_list = [key1, key2, key3]\n",
    "    \n",
    "except:\n",
    "    print('config.json wasn\\'t found.\\nCreating new config file. Please enter your credentials.')\n",
    "    user_agent = input('Enter User Agent: ')\n",
    "    username = input('Enter your username: ')\n",
    "    key1 = input('Enter Secret Key: ')\n",
    "    key2 = input('Enter Secret Key 2:\\nLeave blank if you don\\'t have mirror keys. ')\n",
    "    if key2 == '':\n",
    "        key2 = key1\n",
    "    key3 = input('Enter Secret Key 3:\\nLeave blank if you don\\'t have mirror keys. ')\n",
    "    if key3 == '':\n",
    "        key3 = key1\n",
    "    \n",
    "#     with open('config.json.sample','r') as f:\n",
    "#         config = json.load(f)\n",
    "    config = {'user_agent':None,'key1':None, 'key2':None, 'key3':None, 'username':None}\n",
    "    config['user_agent'] = user_agent\n",
    "    config['key1'] = key1\n",
    "    config['key2'] = key2\n",
    "    config['key3'] = key3\n",
    "    config['username'] = username\n",
    "    \n",
    "    with open('config.json','w+') as f:\n",
    "        json.dump(config, f)\n",
    "    \n",
    "    key_list = [key1, key2, key3]\n",
    "     \n",
    "    print()\n",
    "    print(\"Your configuration has been saved to config.json!\")\n",
    "    \n",
    "# Fetches variables: user_agent, key1, key2, key3, key_list"
   ]
  },
  {
   "cell_type": "markdown",
   "id": "8c2c4f50",
   "metadata": {},
   "source": [
    "# Fetching Data from Last.fm"
   ]
  },
  {
   "cell_type": "code",
   "execution_count": 11,
   "id": "7245506e",
   "metadata": {},
   "outputs": [],
   "source": [
    "# Generic Function for sending requests\n",
    "\n",
    "def send_request(user=username, page=1, limit=200, key=key1, method='user.getrecenttracks'):\n",
    "    \n",
    "    headers = {'user-agent': user_agent}\n",
    "    \n",
    "    payload ={\n",
    "    'limit':limit,\n",
    "    'user':user,\n",
    "    'page': page,\n",
    "    'api_key': key,\n",
    "    'method': method,\n",
    "    'format': 'json'\n",
    "    }\n",
    "    \n",
    "    api_reply = requests.get('https://ws.audioscrobbler.com/2.0/', headers=headers, params=payload)\n",
    "    \n",
    "    return api_reply"
   ]
  },
  {
   "cell_type": "code",
   "execution_count": 17,
   "id": "4a774975",
   "metadata": {},
   "outputs": [],
   "source": [
    "# Fetch a page and clean data before return.\n",
    "# Also handles exceptions.\n",
    "\n",
    "def get_page(num=1, username=username, key=key1, method='user.getrecenttracks'):\n",
    "    \n",
    "    try:\n",
    "        response = send_request(page=num, key=key, method=method)\n",
    "        \n",
    "        if response.status_code != 200:\n",
    "            raise Exception(api_reply.text)\n",
    "        \n",
    "        page = (response.json())['recenttracks']['track']\n",
    "        \n",
    "        if num == 1: \n",
    "            global totalPages\n",
    "            totalPages = int((response.json())['recenttracks']['@attr']['totalPages'])\n",
    "        \n",
    "        if (num!=1) & ('@attr' in page[0].keys()): \n",
    "            if (page[0]['@attr']=={'nowplaying': 'true'}):\n",
    "                del page[0]\n",
    "        \n",
    "        return page\n",
    "\n",
    "    except:\n",
    "        raise Exception(\"request status {}\".format(response.status_code))\n",
    "\n",
    "# Get the total number of pages for 200 scrobbles per page.\n",
    "\n",
    "def get_totalPages(method='user.getrecenttracks'):\n",
    "    response = send_request(method = method)\n",
    "    totalPages = int((response.json())['recenttracks']['@attr']['totalPages'])\n",
    "    return totalPages\n",
    "\n",
    "totalPages = get_totalPages()"
   ]
  },
  {
   "cell_type": "code",
   "execution_count": 18,
   "id": "114c8a74",
   "metadata": {
    "scrolled": true
   },
   "outputs": [],
   "source": [
    "def key_picker(num, ls):\n",
    "    index_num = num % len(ls)\n",
    "    return ls[index_num]"
   ]
  },
  {
   "cell_type": "code",
   "execution_count": null,
   "id": "a70350ec",
   "metadata": {},
   "outputs": [
    {
     "name": "stdout",
     "output_type": "stream",
     "text": [
      "fetched page 12/62\n",
      "[~~~~~~~~~                                        ] 18% Completed\n"
     ]
    }
   ],
   "source": [
    "from IPython.core.display import clear_output\n",
    "\n",
    "pages = []\n",
    "\n",
    "for n in range(1, (totalPages)+1):\n",
    "    \n",
    "    print('fetched page {}/{}'.format(n, totalPages))\n",
    "    \n",
    "    spaces = (((totalPages-n)/totalPages)*50)\n",
    "    bar = ((n/totalPages)*50)\n",
    "    string = '[{}{}] {}% Completed'.format('~'*int(bar),' '*int(spaces), int(bar)*2)\n",
    "    print(string)\n",
    "    \n",
    "    clear_output(wait=True)\n",
    "    \n",
    "    ky = key_picker(num = n, ls = key_list)\n",
    "    fetched_page = get_page(num=n, key=ky)\n",
    "    \n",
    "    pages = [*pages, *fetched_page]\n",
    "print()\n",
    "print(\"Fetched {} pages, {} scrobbles\".format(totalPages, len(pages)))"
   ]
  },
  {
   "cell_type": "markdown",
   "id": "5a8e504d",
   "metadata": {},
   "source": [
    "# Cleaning up Fetched Data with #Pandas"
   ]
  },
  {
   "cell_type": "code",
   "execution_count": null,
   "id": "a60db2cb",
   "metadata": {},
   "outputs": [],
   "source": [
    "# Under Construction!"
   ]
  }
 ],
 "metadata": {
  "kernelspec": {
   "display_name": "Python 3 (ipykernel)",
   "language": "python",
   "name": "python3"
  },
  "language_info": {
   "codemirror_mode": {
    "name": "ipython",
    "version": 3
   },
   "file_extension": ".py",
   "mimetype": "text/x-python",
   "name": "python",
   "nbconvert_exporter": "python",
   "pygments_lexer": "ipython3",
   "version": "3.9.7"
  }
 },
 "nbformat": 4,
 "nbformat_minor": 5
}
